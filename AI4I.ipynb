{
  "nbformat": 4,
  "nbformat_minor": 0,
  "metadata": {
    "colab": {
      "name": "AI4I.ipynb",
      "provenance": [],
      "collapsed_sections": [
        "Vdl9yRjNKwFi",
        "oPb6s3D_K10Y",
        "f3pqD9_71UFF",
        "ivHm4WAEkMSj",
        "tng_RlfMSh5N"
      ],
      "toc_visible": true,
      "mount_file_id": "1paq-s4HxTtnY_cVZCubClojbJ7dUlXgp",
      "authorship_tag": "ABX9TyPdIeZ4Em/wacdW4IP5Welx",
      "include_colab_link": true
    },
    "kernelspec": {
      "name": "python3",
      "display_name": "Python 3"
    }
  },
  "cells": [
    {
      "cell_type": "markdown",
      "metadata": {
        "id": "view-in-github",
        "colab_type": "text"
      },
      "source": [
        "<a href=\"https://colab.research.google.com/github/jensenloke/ai4i/blob/master/AI4I.ipynb\" target=\"_parent\"><img src=\"https://colab.research.google.com/assets/colab-badge.svg\" alt=\"Open In Colab\"/></a>"
      ]
    },
    {
      "cell_type": "markdown",
      "metadata": {
        "id": "Vdl9yRjNKwFi",
        "colab_type": "text"
      },
      "source": [
        "# AI4I Quiz 1"
      ]
    },
    {
      "cell_type": "code",
      "metadata": {
        "id": "TtZA9jEchhCi",
        "colab_type": "code",
        "colab": {}
      },
      "source": [
        "import numpy as np"
      ],
      "execution_count": 0,
      "outputs": []
    },
    {
      "cell_type": "code",
      "metadata": {
        "id": "YL2ShgilafFI",
        "colab_type": "code",
        "outputId": "2905a39f-c536-40eb-980a-30f262e28373",
        "colab": {
          "base_uri": "https://localhost:8080/",
          "height": 51
        }
      },
      "source": [
        "x = np.array([[1, 3, 8], [3, 2, 6]])\n",
        "y = np.array([[6, 4, 2], [0, 5, 1]])\n",
        "print(x-y)"
      ],
      "execution_count": 0,
      "outputs": [
        {
          "output_type": "stream",
          "text": [
            "[[-5 -1  6]\n",
            " [ 3 -3  5]]\n"
          ],
          "name": "stdout"
        }
      ]
    },
    {
      "cell_type": "markdown",
      "metadata": {
        "id": "oPb6s3D_K10Y",
        "colab_type": "text"
      },
      "source": [
        "# AI41 Quiz 2"
      ]
    },
    {
      "cell_type": "code",
      "metadata": {
        "id": "L3htGeBqI66W",
        "colab_type": "code",
        "outputId": "95bc247f-21d0-482d-88c3-b982ec55991f",
        "colab": {
          "base_uri": "https://localhost:8080/",
          "height": 34
        }
      },
      "source": [
        "!ls"
      ],
      "execution_count": 0,
      "outputs": [
        {
          "output_type": "stream",
          "text": [
            "'My Drive'\n"
          ],
          "name": "stdout"
        }
      ]
    },
    {
      "cell_type": "code",
      "metadata": {
        "id": "pZOipM3eJjvk",
        "colab_type": "code",
        "outputId": "6937911f-da4b-4eee-afd2-1da660f08ff4",
        "colab": {
          "base_uri": "https://localhost:8080/",
          "height": 34
        }
      },
      "source": [
        "cd 'My Drive'"
      ],
      "execution_count": 0,
      "outputs": [
        {
          "output_type": "stream",
          "text": [
            "/content/drive/My Drive\n"
          ],
          "name": "stdout"
        }
      ]
    },
    {
      "cell_type": "code",
      "metadata": {
        "id": "pKlF8CVqI7nR",
        "colab_type": "code",
        "colab": {}
      },
      "source": [
        "import numpy as np\n",
        "import pandas as pd\n",
        "import matplotlib.pyplot as plt"
      ],
      "execution_count": 0,
      "outputs": []
    },
    {
      "cell_type": "code",
      "metadata": {
        "id": "6vFtZH6MJHQ0",
        "colab_type": "code",
        "colab": {}
      },
      "source": [
        "#created a file to store text.csv for import testing\n",
        "df_main = pd.read_csv('text.csv', sep='#',index_col=0)"
      ],
      "execution_count": 0,
      "outputs": []
    },
    {
      "cell_type": "code",
      "metadata": {
        "id": "frigJgw7Jpsi",
        "colab_type": "code",
        "outputId": "938b4ef0-b7d5-4499-c6bd-b88d50f1ab18",
        "colab": {
          "base_uri": "https://localhost:8080/",
          "height": 204
        }
      },
      "source": [
        "df_main.head()"
      ],
      "execution_count": 0,
      "outputs": [
        {
          "output_type": "execute_result",
          "data": {
            "text/html": [
              "<div>\n",
              "<style scoped>\n",
              "    .dataframe tbody tr th:only-of-type {\n",
              "        vertical-align: middle;\n",
              "    }\n",
              "\n",
              "    .dataframe tbody tr th {\n",
              "        vertical-align: top;\n",
              "    }\n",
              "\n",
              "    .dataframe thead th {\n",
              "        text-align: right;\n",
              "    }\n",
              "</style>\n",
              "<table border=\"1\" class=\"dataframe\">\n",
              "  <thead>\n",
              "    <tr style=\"text-align: right;\">\n",
              "      <th></th>\n",
              "      <th>Pregnancies</th>\n",
              "      <th>Glucose</th>\n",
              "      <th>BloodPressure</th>\n",
              "      <th>SkinThickness</th>\n",
              "      <th>Insulin</th>\n",
              "      <th>DiabetesPedigreeFunction</th>\n",
              "      <th>Outcome</th>\n",
              "    </tr>\n",
              "    <tr>\n",
              "      <th>patient_id</th>\n",
              "      <th></th>\n",
              "      <th></th>\n",
              "      <th></th>\n",
              "      <th></th>\n",
              "      <th></th>\n",
              "      <th></th>\n",
              "      <th></th>\n",
              "    </tr>\n",
              "  </thead>\n",
              "  <tbody>\n",
              "    <tr>\n",
              "      <th>163</th>\n",
              "      <td>0</td>\n",
              "      <td>114</td>\n",
              "      <td>80</td>\n",
              "      <td>34</td>\n",
              "      <td>285</td>\n",
              "      <td>0.167</td>\n",
              "      <td>0</td>\n",
              "    </tr>\n",
              "    <tr>\n",
              "      <th>348</th>\n",
              "      <td>3</td>\n",
              "      <td>116</td>\n",
              "      <td>0</td>\n",
              "      <td>0</td>\n",
              "      <td>0</td>\n",
              "      <td>0.187</td>\n",
              "      <td>0</td>\n",
              "    </tr>\n",
              "    <tr>\n",
              "      <th>395</th>\n",
              "      <td>4</td>\n",
              "      <td>158</td>\n",
              "      <td>78</td>\n",
              "      <td>0</td>\n",
              "      <td>0</td>\n",
              "      <td>0.803</td>\n",
              "      <td>1</td>\n",
              "    </tr>\n",
              "    <tr>\n",
              "      <th>187</th>\n",
              "      <td>8</td>\n",
              "      <td>181</td>\n",
              "      <td>68</td>\n",
              "      <td>36</td>\n",
              "      <td>495</td>\n",
              "      <td>0.615</td>\n",
              "      <td>1</td>\n",
              "    </tr>\n",
              "  </tbody>\n",
              "</table>\n",
              "</div>"
            ],
            "text/plain": [
              "            Pregnancies  Glucose  ...  DiabetesPedigreeFunction  Outcome\n",
              "patient_id                        ...                                   \n",
              "163                   0      114  ...                     0.167        0\n",
              "348                   3      116  ...                     0.187        0\n",
              "395                   4      158  ...                     0.803        1\n",
              "187                   8      181  ...                     0.615        1\n",
              "\n",
              "[4 rows x 7 columns]"
            ]
          },
          "metadata": {
            "tags": []
          },
          "execution_count": 16
        }
      ]
    },
    {
      "cell_type": "code",
      "metadata": {
        "id": "CkJ7GnwWKKTJ",
        "colab_type": "code",
        "outputId": "82888e66-d1b9-43e9-dec1-96277cc84348",
        "colab": {
          "base_uri": "https://localhost:8080/",
          "height": 301
        }
      },
      "source": [
        "df = df_main\n",
        "df.boxplot(column = ['Glucose'], by=['Outcome'])\n",
        "plt.xlabel('Diabetic Condition')\n",
        "plt.ylabel('Glucose Level')\n",
        "plt.show()"
      ],
      "execution_count": 0,
      "outputs": [
        {
          "output_type": "display_data",
          "data": {
            "image/png": "[encoded data removed]",
            "text/plain": [
              "<Figure size 432x288 with 1 Axes>"
            ]
          },
          "metadata": {
            "tags": [],
            "needs_background": "light"
          }
        }
      ]
    },
    {
      "cell_type": "code",
      "metadata": {
        "id": "0ARrkDpkegc2",
        "colab_type": "code",
        "colab": {}
      },
      "source": [
        "pd.cut"
      ],
      "execution_count": 0,
      "outputs": []
    },
    {
      "cell_type": "code",
      "metadata": {
        "id": "xSUs5FMMKsRy",
        "colab_type": "code",
        "colab": {}
      },
      "source": [
        "patient_id = {'patient_id': [163,348,395,187,525],'BMI':[34.1,35.0,25.9,22.5,31.6],'Age':[38,43,24,21,24]}                                "
      ],
      "execution_count": 0,
      "outputs": []
    },
    {
      "cell_type": "code",
      "metadata": {
        "id": "o3pqXxsgNbCr",
        "colab_type": "code",
        "colab": {}
      },
      "source": [
        "df2 = pd.DataFrame(patient_id)"
      ],
      "execution_count": 0,
      "outputs": []
    },
    {
      "cell_type": "code",
      "metadata": {
        "id": "_-diMfDsNsXi",
        "colab_type": "code",
        "outputId": "007883a8-f77b-45e4-fde5-06fbc4db0065",
        "colab": {
          "base_uri": "https://localhost:8080/",
          "height": 204
        }
      },
      "source": [
        "df2.head()"
      ],
      "execution_count": 0,
      "outputs": [
        {
          "output_type": "execute_result",
          "data": {
            "text/html": [
              "<div>\n",
              "<style scoped>\n",
              "    .dataframe tbody tr th:only-of-type {\n",
              "        vertical-align: middle;\n",
              "    }\n",
              "\n",
              "    .dataframe tbody tr th {\n",
              "        vertical-align: top;\n",
              "    }\n",
              "\n",
              "    .dataframe thead th {\n",
              "        text-align: right;\n",
              "    }\n",
              "</style>\n",
              "<table border=\"1\" class=\"dataframe\">\n",
              "  <thead>\n",
              "    <tr style=\"text-align: right;\">\n",
              "      <th></th>\n",
              "      <th>patient_id</th>\n",
              "      <th>BMI</th>\n",
              "      <th>Age</th>\n",
              "    </tr>\n",
              "  </thead>\n",
              "  <tbody>\n",
              "    <tr>\n",
              "      <th>0</th>\n",
              "      <td>163</td>\n",
              "      <td>34.1</td>\n",
              "      <td>38</td>\n",
              "    </tr>\n",
              "    <tr>\n",
              "      <th>1</th>\n",
              "      <td>348</td>\n",
              "      <td>35.0</td>\n",
              "      <td>43</td>\n",
              "    </tr>\n",
              "    <tr>\n",
              "      <th>2</th>\n",
              "      <td>395</td>\n",
              "      <td>25.9</td>\n",
              "      <td>24</td>\n",
              "    </tr>\n",
              "    <tr>\n",
              "      <th>3</th>\n",
              "      <td>187</td>\n",
              "      <td>22.5</td>\n",
              "      <td>21</td>\n",
              "    </tr>\n",
              "    <tr>\n",
              "      <th>4</th>\n",
              "      <td>525</td>\n",
              "      <td>31.6</td>\n",
              "      <td>24</td>\n",
              "    </tr>\n",
              "  </tbody>\n",
              "</table>\n",
              "</div>"
            ],
            "text/plain": [
              "   patient_id   BMI  Age\n",
              "0         163  34.1   38\n",
              "1         348  35.0   43\n",
              "2         395  25.9   24\n",
              "3         187  22.5   21\n",
              "4         525  31.6   24"
            ]
          },
          "metadata": {
            "tags": []
          },
          "execution_count": 80
        }
      ]
    },
    {
      "cell_type": "code",
      "metadata": {
        "id": "naXHBpq-NtIV",
        "colab_type": "code",
        "outputId": "a1b9be71-9d33-40d2-f766-a91dec21d896",
        "colab": {
          "base_uri": "https://localhost:8080/",
          "height": 235
        }
      },
      "source": [
        "df3 = df2.set_index('patient_id')\n",
        "df3.head()"
      ],
      "execution_count": 0,
      "outputs": [
        {
          "output_type": "execute_result",
          "data": {
            "text/html": [
              "<div>\n",
              "<style scoped>\n",
              "    .dataframe tbody tr th:only-of-type {\n",
              "        vertical-align: middle;\n",
              "    }\n",
              "\n",
              "    .dataframe tbody tr th {\n",
              "        vertical-align: top;\n",
              "    }\n",
              "\n",
              "    .dataframe thead th {\n",
              "        text-align: right;\n",
              "    }\n",
              "</style>\n",
              "<table border=\"1\" class=\"dataframe\">\n",
              "  <thead>\n",
              "    <tr style=\"text-align: right;\">\n",
              "      <th></th>\n",
              "      <th>BMI</th>\n",
              "      <th>Age</th>\n",
              "    </tr>\n",
              "    <tr>\n",
              "      <th>patient_id</th>\n",
              "      <th></th>\n",
              "      <th></th>\n",
              "    </tr>\n",
              "  </thead>\n",
              "  <tbody>\n",
              "    <tr>\n",
              "      <th>163</th>\n",
              "      <td>34.1</td>\n",
              "      <td>38</td>\n",
              "    </tr>\n",
              "    <tr>\n",
              "      <th>348</th>\n",
              "      <td>35.0</td>\n",
              "      <td>43</td>\n",
              "    </tr>\n",
              "    <tr>\n",
              "      <th>395</th>\n",
              "      <td>25.9</td>\n",
              "      <td>24</td>\n",
              "    </tr>\n",
              "    <tr>\n",
              "      <th>187</th>\n",
              "      <td>22.5</td>\n",
              "      <td>21</td>\n",
              "    </tr>\n",
              "    <tr>\n",
              "      <th>525</th>\n",
              "      <td>31.6</td>\n",
              "      <td>24</td>\n",
              "    </tr>\n",
              "  </tbody>\n",
              "</table>\n",
              "</div>"
            ],
            "text/plain": [
              "             BMI  Age\n",
              "patient_id           \n",
              "163         34.1   38\n",
              "348         35.0   43\n",
              "395         25.9   24\n",
              "187         22.5   21\n",
              "525         31.6   24"
            ]
          },
          "metadata": {
            "tags": []
          },
          "execution_count": 81
        }
      ]
    },
    {
      "cell_type": "code",
      "metadata": {
        "id": "iGuOul-xObmx",
        "colab_type": "code",
        "colab": {}
      },
      "source": [
        "combined = df_main.join(df3, on='patient_id').sort_values(by=['BMI','Age'])"
      ],
      "execution_count": 0,
      "outputs": []
    },
    {
      "cell_type": "code",
      "metadata": {
        "id": "bEQcWZtBO4aX",
        "colab_type": "code",
        "outputId": "f8c35cdf-4a39-446a-befc-ec63bddfc277",
        "colab": {
          "base_uri": "https://localhost:8080/",
          "height": 204
        }
      },
      "source": [
        "combined"
      ],
      "execution_count": 0,
      "outputs": [
        {
          "output_type": "execute_result",
          "data": {
            "text/html": [
              "<div>\n",
              "<style scoped>\n",
              "    .dataframe tbody tr th:only-of-type {\n",
              "        vertical-align: middle;\n",
              "    }\n",
              "\n",
              "    .dataframe tbody tr th {\n",
              "        vertical-align: top;\n",
              "    }\n",
              "\n",
              "    .dataframe thead th {\n",
              "        text-align: right;\n",
              "    }\n",
              "</style>\n",
              "<table border=\"1\" class=\"dataframe\">\n",
              "  <thead>\n",
              "    <tr style=\"text-align: right;\">\n",
              "      <th></th>\n",
              "      <th>Pregnancies</th>\n",
              "      <th>Glucose</th>\n",
              "      <th>BloodPressure</th>\n",
              "      <th>SkinThickness</th>\n",
              "      <th>Insulin</th>\n",
              "      <th>DiabetesPedigreeFunction</th>\n",
              "      <th>Outcome</th>\n",
              "      <th>BMI</th>\n",
              "      <th>Age</th>\n",
              "    </tr>\n",
              "    <tr>\n",
              "      <th>patient_id</th>\n",
              "      <th></th>\n",
              "      <th></th>\n",
              "      <th></th>\n",
              "      <th></th>\n",
              "      <th></th>\n",
              "      <th></th>\n",
              "      <th></th>\n",
              "      <th></th>\n",
              "      <th></th>\n",
              "    </tr>\n",
              "  </thead>\n",
              "  <tbody>\n",
              "    <tr>\n",
              "      <th>187</th>\n",
              "      <td>8</td>\n",
              "      <td>181</td>\n",
              "      <td>68</td>\n",
              "      <td>36</td>\n",
              "      <td>495</td>\n",
              "      <td>0.615</td>\n",
              "      <td>1</td>\n",
              "      <td>22.5</td>\n",
              "      <td>21</td>\n",
              "    </tr>\n",
              "    <tr>\n",
              "      <th>395</th>\n",
              "      <td>4</td>\n",
              "      <td>158</td>\n",
              "      <td>78</td>\n",
              "      <td>0</td>\n",
              "      <td>0</td>\n",
              "      <td>0.803</td>\n",
              "      <td>1</td>\n",
              "      <td>25.9</td>\n",
              "      <td>24</td>\n",
              "    </tr>\n",
              "    <tr>\n",
              "      <th>163</th>\n",
              "      <td>0</td>\n",
              "      <td>114</td>\n",
              "      <td>80</td>\n",
              "      <td>34</td>\n",
              "      <td>285</td>\n",
              "      <td>0.167</td>\n",
              "      <td>0</td>\n",
              "      <td>34.1</td>\n",
              "      <td>38</td>\n",
              "    </tr>\n",
              "    <tr>\n",
              "      <th>348</th>\n",
              "      <td>3</td>\n",
              "      <td>116</td>\n",
              "      <td>0</td>\n",
              "      <td>0</td>\n",
              "      <td>0</td>\n",
              "      <td>0.187</td>\n",
              "      <td>0</td>\n",
              "      <td>35.0</td>\n",
              "      <td>43</td>\n",
              "    </tr>\n",
              "  </tbody>\n",
              "</table>\n",
              "</div>"
            ],
            "text/plain": [
              "            Pregnancies  Glucose  BloodPressure  ...  Outcome   BMI  Age\n",
              "patient_id                                       ...                    \n",
              "187                   8      181             68  ...        1  22.5   21\n",
              "395                   4      158             78  ...        1  25.9   24\n",
              "163                   0      114             80  ...        0  34.1   38\n",
              "348                   3      116              0  ...        0  35.0   43\n",
              "\n",
              "[4 rows x 9 columns]"
            ]
          },
          "metadata": {
            "tags": []
          },
          "execution_count": 91
        }
      ]
    },
    {
      "cell_type": "code",
      "metadata": {
        "id": "0ehX1bVud8s_",
        "colab_type": "code",
        "colab": {}
      },
      "source": [
        "All of the above"
      ],
      "execution_count": 0,
      "outputs": []
    },
    {
      "cell_type": "markdown",
      "metadata": {
        "id": "f3pqD9_71UFF",
        "colab_type": "text"
      },
      "source": [
        "# AI4I Quiz 3"
      ]
    },
    {
      "cell_type": "code",
      "metadata": {
        "id": "4vAI8uBL1W_Z",
        "colab_type": "code",
        "outputId": "97d3313f-12e4-4039-eabc-e26dce8e107a",
        "colab": {
          "base_uri": "https://localhost:8080/",
          "height": 34
        }
      },
      "source": [
        "!ls"
      ],
      "execution_count": 0,
      "outputs": [
        {
          "output_type": "stream",
          "text": [
            "candyhierarchy2017.csv\n"
          ],
          "name": "stdout"
        }
      ]
    },
    {
      "cell_type": "code",
      "metadata": {
        "id": "-Crbhmzo1liF",
        "colab_type": "code",
        "outputId": "c0b43dbd-4924-4036-be98-3ee033073aeb",
        "colab": {
          "base_uri": "https://localhost:8080/",
          "height": 34
        }
      },
      "source": [
        "cd drive/My Drive/Colab\\ Notebooks"
      ],
      "execution_count": 0,
      "outputs": [
        {
          "output_type": "stream",
          "text": [
            "/content/drive/My Drive/Colab Notebooks\n"
          ],
          "name": "stdout"
        }
      ]
    },
    {
      "cell_type": "code",
      "metadata": {
        "id": "e__urdmD137S",
        "colab_type": "code",
        "outputId": "bba702a0-4d6c-4d19-ec83-1c0ca27300ab",
        "colab": {
          "base_uri": "https://localhost:8080/",
          "height": 34
        }
      },
      "source": [
        "cd Quiz3"
      ],
      "execution_count": 0,
      "outputs": [
        {
          "output_type": "stream",
          "text": [
            "/content/drive/My Drive/Colab Notebooks/AI4I/Quiz3\n"
          ],
          "name": "stdout"
        }
      ]
    },
    {
      "cell_type": "code",
      "metadata": {
        "id": "ijm8IKvn2Cvy",
        "colab_type": "code",
        "outputId": "0e2d0a7f-3605-4243-d6e1-7b8ba8ff3ea7",
        "colab": {
          "base_uri": "https://localhost:8080/",
          "height": 51
        }
      },
      "source": [
        "import numpy as np\n",
        "import pandas as pd\n",
        "import matplotlib.pyplot as plt\n",
        "import seaborn as sns\n",
        "import scipy\n",
        "from sklearn.feature_extraction.text import CountVectorizer"
      ],
      "execution_count": 0,
      "outputs": [
        {
          "output_type": "stream",
          "text": [
            "/usr/local/lib/python3.6/dist-packages/statsmodels/tools/_testing.py:19: FutureWarning: pandas.util.testing is deprecated. Use the functions in the public API at pandas.testing instead.\n",
            "  import pandas.util.testing as tm\n"
          ],
          "name": "stderr"
        }
      ]
    },
    {
      "cell_type": "code",
      "metadata": {
        "id": "6EOICBh_2GSs",
        "colab_type": "code",
        "colab": {}
      },
      "source": [
        "df = pd.read_csv('candyhierarchy2017.csv', encoding='latin-1')"
      ],
      "execution_count": 0,
      "outputs": []
    },
    {
      "cell_type": "code",
      "metadata": {
        "id": "MPAGAG3L2taU",
        "colab_type": "code",
        "outputId": "d7c09d8b-d871-428f-db7c-7c743aa07e88",
        "colab": {
          "base_uri": "https://localhost:8080/",
          "height": 695
        }
      },
      "source": [
        "df.head()"
      ],
      "execution_count": 0,
      "outputs": [
        {
          "output_type": "execute_result",
          "data": {
            "text/html": [
              "<div>\n",
              "<style scoped>\n",
              "    .dataframe tbody tr th:only-of-type {\n",
              "        vertical-align: middle;\n",
              "    }\n",
              "\n",
              "    .dataframe tbody tr th {\n",
              "        vertical-align: top;\n",
              "    }\n",
              "\n",
              "    .dataframe thead th {\n",
              "        text-align: right;\n",
              "    }\n",
              "</style>\n",
              "<table border=\"1\" class=\"dataframe\">\n",
              "  <thead>\n",
              "    <tr style=\"text-align: right;\">\n",
              "      <th></th>\n",
              "      <th>Internal ID</th>\n",
              "      <th>Q1: GOING OUT?</th>\n",
              "      <th>Q2: GENDER</th>\n",
              "      <th>Q3: AGE</th>\n",
              "      <th>Q4: COUNTRY</th>\n",
              "      <th>Q5: STATE, PROVINCE, COUNTY, ETC</th>\n",
              "      <th>Q6 | 100 Grand Bar</th>\n",
              "      <th>Q6 | Anonymous brown globs that come in black and orange wrappers\\t(a.k.a. Mary Janes)</th>\n",
              "      <th>Q6 | Any full-sized candy bar</th>\n",
              "      <th>Q6 | Black Jacks</th>\n",
              "      <th>Q6 | Bonkers (the candy)</th>\n",
              "      <th>Q6 | Bonkers (the board game)</th>\n",
              "      <th>Q6 | Bottle Caps</th>\n",
              "      <th>Q6 | Box'o'Raisins</th>\n",
              "      <th>Q6 | Broken glow stick</th>\n",
              "      <th>Q6 | Butterfinger</th>\n",
              "      <th>Q6 | Cadbury Creme Eggs</th>\n",
              "      <th>Q6 | Candy Corn</th>\n",
              "      <th>Q6 | Candy that is clearly just the stuff given out for free at restaurants</th>\n",
              "      <th>Q6 | Caramellos</th>\n",
              "      <th>Q6 | Cash, or other forms of legal tender</th>\n",
              "      <th>Q6 | Chardonnay</th>\n",
              "      <th>Q6 | Chick-o-Sticks (we donÕt know what that is)</th>\n",
              "      <th>Q6 | Chiclets</th>\n",
              "      <th>Q6 | Coffee Crisp</th>\n",
              "      <th>Q6 | Creepy Religious comics/Chick Tracts</th>\n",
              "      <th>Q6 | Dental paraphenalia</th>\n",
              "      <th>Q6 | Dots</th>\n",
              "      <th>Q6 | Dove Bars</th>\n",
              "      <th>Q6 | Fuzzy Peaches</th>\n",
              "      <th>Q6 | Generic Brand Acetaminophen</th>\n",
              "      <th>Q6 | Glow sticks</th>\n",
              "      <th>Q6 | Goo Goo Clusters</th>\n",
              "      <th>Q6 | Good N' Plenty</th>\n",
              "      <th>Q6 | Gum from baseball cards</th>\n",
              "      <th>Q6 | Gummy Bears straight up</th>\n",
              "      <th>Q6 | Hard Candy</th>\n",
              "      <th>Q6 | Healthy Fruit</th>\n",
              "      <th>Q6 | Heath Bar</th>\n",
              "      <th>Q6 | Hershey's Dark Chocolate</th>\n",
              "      <th>...</th>\n",
              "      <th>Q6 | Real Housewives of Orange County Season 9 Blue-Ray</th>\n",
              "      <th>Q6 | ReeseÕs Peanut Butter Cups</th>\n",
              "      <th>Q6 | Reese's Pieces</th>\n",
              "      <th>Q6 | Reggie Jackson Bar</th>\n",
              "      <th>Q6 | Rolos</th>\n",
              "      <th>Q6 | Sandwich-sized bags filled with BooBerry Crunch</th>\n",
              "      <th>Q6 | Skittles</th>\n",
              "      <th>Q6 | Smarties (American)</th>\n",
              "      <th>Q6 | Smarties (Commonwealth)</th>\n",
              "      <th>Q6 | Snickers</th>\n",
              "      <th>Q6 | Sourpatch Kids (i.e. abominations of nature)</th>\n",
              "      <th>Q6 | Spotted Dick</th>\n",
              "      <th>Q6 | Starburst</th>\n",
              "      <th>Q6 | Sweet Tarts</th>\n",
              "      <th>Q6 | Swedish Fish</th>\n",
              "      <th>Q6 | Sweetums (a friend to diabetes)</th>\n",
              "      <th>Q6 | Take 5</th>\n",
              "      <th>Q6 | Tic Tacs</th>\n",
              "      <th>Q6 | Those odd marshmallow circus peanut things</th>\n",
              "      <th>Q6 | Three Musketeers</th>\n",
              "      <th>Q6 | Tolberone something or other</th>\n",
              "      <th>Q6 | Trail Mix</th>\n",
              "      <th>Q6 | Twix</th>\n",
              "      <th>Q6 | Vials of pure high fructose corn syrup, for main-lining into your vein</th>\n",
              "      <th>Q6 | Vicodin</th>\n",
              "      <th>Q6 | Whatchamacallit Bars</th>\n",
              "      <th>Q6 | White Bread</th>\n",
              "      <th>Q6 | Whole Wheat anything</th>\n",
              "      <th>Q6 | York Peppermint Patties</th>\n",
              "      <th>Q7: JOY OTHER</th>\n",
              "      <th>Q8: DESPAIR OTHER</th>\n",
              "      <th>Q9: OTHER COMMENTS</th>\n",
              "      <th>Q10: DRESS</th>\n",
              "      <th>Unnamed: 113</th>\n",
              "      <th>Q11: DAY</th>\n",
              "      <th>Q12: MEDIA [Daily Dish]</th>\n",
              "      <th>Q12: MEDIA [Science]</th>\n",
              "      <th>Q12: MEDIA [ESPN]</th>\n",
              "      <th>Q12: MEDIA [Yahoo]</th>\n",
              "      <th>Click Coordinates (x, y)</th>\n",
              "    </tr>\n",
              "  </thead>\n",
              "  <tbody>\n",
              "    <tr>\n",
              "      <th>0</th>\n",
              "      <td>90258773</td>\n",
              "      <td>NaN</td>\n",
              "      <td>NaN</td>\n",
              "      <td>NaN</td>\n",
              "      <td>NaN</td>\n",
              "      <td>NaN</td>\n",
              "      <td>NaN</td>\n",
              "      <td>NaN</td>\n",
              "      <td>NaN</td>\n",
              "      <td>NaN</td>\n",
              "      <td>NaN</td>\n",
              "      <td>NaN</td>\n",
              "      <td>NaN</td>\n",
              "      <td>NaN</td>\n",
              "      <td>NaN</td>\n",
              "      <td>NaN</td>\n",
              "      <td>NaN</td>\n",
              "      <td>NaN</td>\n",
              "      <td>NaN</td>\n",
              "      <td>NaN</td>\n",
              "      <td>NaN</td>\n",
              "      <td>NaN</td>\n",
              "      <td>NaN</td>\n",
              "      <td>NaN</td>\n",
              "      <td>NaN</td>\n",
              "      <td>NaN</td>\n",
              "      <td>NaN</td>\n",
              "      <td>NaN</td>\n",
              "      <td>NaN</td>\n",
              "      <td>NaN</td>\n",
              "      <td>NaN</td>\n",
              "      <td>NaN</td>\n",
              "      <td>NaN</td>\n",
              "      <td>NaN</td>\n",
              "      <td>NaN</td>\n",
              "      <td>NaN</td>\n",
              "      <td>NaN</td>\n",
              "      <td>NaN</td>\n",
              "      <td>NaN</td>\n",
              "      <td>NaN</td>\n",
              "      <td>...</td>\n",
              "      <td>NaN</td>\n",
              "      <td>NaN</td>\n",
              "      <td>NaN</td>\n",
              "      <td>NaN</td>\n",
              "      <td>NaN</td>\n",
              "      <td>NaN</td>\n",
              "      <td>NaN</td>\n",
              "      <td>NaN</td>\n",
              "      <td>NaN</td>\n",
              "      <td>NaN</td>\n",
              "      <td>NaN</td>\n",
              "      <td>NaN</td>\n",
              "      <td>NaN</td>\n",
              "      <td>NaN</td>\n",
              "      <td>NaN</td>\n",
              "      <td>NaN</td>\n",
              "      <td>NaN</td>\n",
              "      <td>NaN</td>\n",
              "      <td>NaN</td>\n",
              "      <td>NaN</td>\n",
              "      <td>NaN</td>\n",
              "      <td>NaN</td>\n",
              "      <td>NaN</td>\n",
              "      <td>NaN</td>\n",
              "      <td>NaN</td>\n",
              "      <td>NaN</td>\n",
              "      <td>NaN</td>\n",
              "      <td>NaN</td>\n",
              "      <td>NaN</td>\n",
              "      <td>NaN</td>\n",
              "      <td>NaN</td>\n",
              "      <td>NaN</td>\n",
              "      <td>NaN</td>\n",
              "      <td>NaN</td>\n",
              "      <td>NaN</td>\n",
              "      <td>NaN</td>\n",
              "      <td>NaN</td>\n",
              "      <td>NaN</td>\n",
              "      <td>NaN</td>\n",
              "      <td>NaN</td>\n",
              "    </tr>\n",
              "    <tr>\n",
              "      <th>1</th>\n",
              "      <td>90272821</td>\n",
              "      <td>No</td>\n",
              "      <td>Male</td>\n",
              "      <td>44</td>\n",
              "      <td>USA</td>\n",
              "      <td>NM</td>\n",
              "      <td>MEH</td>\n",
              "      <td>DESPAIR</td>\n",
              "      <td>JOY</td>\n",
              "      <td>MEH</td>\n",
              "      <td>DESPAIR</td>\n",
              "      <td>DESPAIR</td>\n",
              "      <td>DESPAIR</td>\n",
              "      <td>DESPAIR</td>\n",
              "      <td>DESPAIR</td>\n",
              "      <td>DESPAIR</td>\n",
              "      <td>MEH</td>\n",
              "      <td>MEH</td>\n",
              "      <td>DESPAIR</td>\n",
              "      <td>MEH</td>\n",
              "      <td>JOY</td>\n",
              "      <td>MEH</td>\n",
              "      <td>DESPAIR</td>\n",
              "      <td>DESPAIR</td>\n",
              "      <td>DESPAIR</td>\n",
              "      <td>DESPAIR</td>\n",
              "      <td>DESPAIR</td>\n",
              "      <td>MEH</td>\n",
              "      <td>JOY</td>\n",
              "      <td>DESPAIR</td>\n",
              "      <td>DESPAIR</td>\n",
              "      <td>DESPAIR</td>\n",
              "      <td>DESPAIR</td>\n",
              "      <td>MEH</td>\n",
              "      <td>DESPAIR</td>\n",
              "      <td>MEH</td>\n",
              "      <td>MEH</td>\n",
              "      <td>DESPAIR</td>\n",
              "      <td>MEH</td>\n",
              "      <td>JOY</td>\n",
              "      <td>...</td>\n",
              "      <td>DESPAIR</td>\n",
              "      <td>JOY</td>\n",
              "      <td>JOY</td>\n",
              "      <td>DESPAIR</td>\n",
              "      <td>JOY</td>\n",
              "      <td>DESPAIR</td>\n",
              "      <td>DESPAIR</td>\n",
              "      <td>DESPAIR</td>\n",
              "      <td>DESPAIR</td>\n",
              "      <td>MEH</td>\n",
              "      <td>DESPAIR</td>\n",
              "      <td>DESPAIR</td>\n",
              "      <td>MEH</td>\n",
              "      <td>DESPAIR</td>\n",
              "      <td>MEH</td>\n",
              "      <td>DESPAIR</td>\n",
              "      <td>DESPAIR</td>\n",
              "      <td>DESPAIR</td>\n",
              "      <td>DESPAIR</td>\n",
              "      <td>JOY</td>\n",
              "      <td>JOY</td>\n",
              "      <td>DESPAIR</td>\n",
              "      <td>JOY</td>\n",
              "      <td>DESPAIR</td>\n",
              "      <td>DESPAIR</td>\n",
              "      <td>DESPAIR</td>\n",
              "      <td>DESPAIR</td>\n",
              "      <td>DESPAIR</td>\n",
              "      <td>DESPAIR</td>\n",
              "      <td>Mounds</td>\n",
              "      <td>NaN</td>\n",
              "      <td>Bottom line is Twix is really the only candy w...</td>\n",
              "      <td>White and gold</td>\n",
              "      <td>NaN</td>\n",
              "      <td>Sunday</td>\n",
              "      <td>NaN</td>\n",
              "      <td>1.0</td>\n",
              "      <td>NaN</td>\n",
              "      <td>NaN</td>\n",
              "      <td>(84, 25)</td>\n",
              "    </tr>\n",
              "    <tr>\n",
              "      <th>2</th>\n",
              "      <td>90272829</td>\n",
              "      <td>NaN</td>\n",
              "      <td>Male</td>\n",
              "      <td>49</td>\n",
              "      <td>USA</td>\n",
              "      <td>Virginia</td>\n",
              "      <td>NaN</td>\n",
              "      <td>NaN</td>\n",
              "      <td>NaN</td>\n",
              "      <td>NaN</td>\n",
              "      <td>NaN</td>\n",
              "      <td>NaN</td>\n",
              "      <td>NaN</td>\n",
              "      <td>NaN</td>\n",
              "      <td>NaN</td>\n",
              "      <td>NaN</td>\n",
              "      <td>NaN</td>\n",
              "      <td>NaN</td>\n",
              "      <td>NaN</td>\n",
              "      <td>NaN</td>\n",
              "      <td>NaN</td>\n",
              "      <td>NaN</td>\n",
              "      <td>NaN</td>\n",
              "      <td>NaN</td>\n",
              "      <td>NaN</td>\n",
              "      <td>NaN</td>\n",
              "      <td>NaN</td>\n",
              "      <td>NaN</td>\n",
              "      <td>NaN</td>\n",
              "      <td>NaN</td>\n",
              "      <td>NaN</td>\n",
              "      <td>NaN</td>\n",
              "      <td>NaN</td>\n",
              "      <td>NaN</td>\n",
              "      <td>NaN</td>\n",
              "      <td>NaN</td>\n",
              "      <td>NaN</td>\n",
              "      <td>NaN</td>\n",
              "      <td>NaN</td>\n",
              "      <td>NaN</td>\n",
              "      <td>...</td>\n",
              "      <td>NaN</td>\n",
              "      <td>NaN</td>\n",
              "      <td>NaN</td>\n",
              "      <td>NaN</td>\n",
              "      <td>NaN</td>\n",
              "      <td>NaN</td>\n",
              "      <td>NaN</td>\n",
              "      <td>NaN</td>\n",
              "      <td>NaN</td>\n",
              "      <td>NaN</td>\n",
              "      <td>NaN</td>\n",
              "      <td>NaN</td>\n",
              "      <td>NaN</td>\n",
              "      <td>NaN</td>\n",
              "      <td>NaN</td>\n",
              "      <td>NaN</td>\n",
              "      <td>NaN</td>\n",
              "      <td>NaN</td>\n",
              "      <td>NaN</td>\n",
              "      <td>NaN</td>\n",
              "      <td>NaN</td>\n",
              "      <td>NaN</td>\n",
              "      <td>NaN</td>\n",
              "      <td>NaN</td>\n",
              "      <td>NaN</td>\n",
              "      <td>NaN</td>\n",
              "      <td>NaN</td>\n",
              "      <td>NaN</td>\n",
              "      <td>NaN</td>\n",
              "      <td>NaN</td>\n",
              "      <td>NaN</td>\n",
              "      <td>NaN</td>\n",
              "      <td>NaN</td>\n",
              "      <td>NaN</td>\n",
              "      <td>NaN</td>\n",
              "      <td>NaN</td>\n",
              "      <td>NaN</td>\n",
              "      <td>NaN</td>\n",
              "      <td>NaN</td>\n",
              "      <td>NaN</td>\n",
              "    </tr>\n",
              "    <tr>\n",
              "      <th>3</th>\n",
              "      <td>90272840</td>\n",
              "      <td>No</td>\n",
              "      <td>Male</td>\n",
              "      <td>40</td>\n",
              "      <td>us</td>\n",
              "      <td>or</td>\n",
              "      <td>MEH</td>\n",
              "      <td>DESPAIR</td>\n",
              "      <td>JOY</td>\n",
              "      <td>MEH</td>\n",
              "      <td>MEH</td>\n",
              "      <td>DESPAIR</td>\n",
              "      <td>MEH</td>\n",
              "      <td>DESPAIR</td>\n",
              "      <td>DESPAIR</td>\n",
              "      <td>MEH</td>\n",
              "      <td>MEH</td>\n",
              "      <td>DESPAIR</td>\n",
              "      <td>DESPAIR</td>\n",
              "      <td>MEH</td>\n",
              "      <td>JOY</td>\n",
              "      <td>MEH</td>\n",
              "      <td>JOY</td>\n",
              "      <td>MEH</td>\n",
              "      <td>DESPAIR</td>\n",
              "      <td>DESPAIR</td>\n",
              "      <td>DESPAIR</td>\n",
              "      <td>JOY</td>\n",
              "      <td>JOY</td>\n",
              "      <td>MEH</td>\n",
              "      <td>MEH</td>\n",
              "      <td>JOY</td>\n",
              "      <td>JOY</td>\n",
              "      <td>MEH</td>\n",
              "      <td>DESPAIR</td>\n",
              "      <td>JOY</td>\n",
              "      <td>MEH</td>\n",
              "      <td>MEH</td>\n",
              "      <td>DESPAIR</td>\n",
              "      <td>MEH</td>\n",
              "      <td>...</td>\n",
              "      <td>DESPAIR</td>\n",
              "      <td>JOY</td>\n",
              "      <td>MEH</td>\n",
              "      <td>MEH</td>\n",
              "      <td>MEH</td>\n",
              "      <td>DESPAIR</td>\n",
              "      <td>DESPAIR</td>\n",
              "      <td>DESPAIR</td>\n",
              "      <td>MEH</td>\n",
              "      <td>JOY</td>\n",
              "      <td>MEH</td>\n",
              "      <td>DESPAIR</td>\n",
              "      <td>MEH</td>\n",
              "      <td>MEH</td>\n",
              "      <td>JOY</td>\n",
              "      <td>MEH</td>\n",
              "      <td>JOY</td>\n",
              "      <td>MEH</td>\n",
              "      <td>DESPAIR</td>\n",
              "      <td>DESPAIR</td>\n",
              "      <td>JOY</td>\n",
              "      <td>MEH</td>\n",
              "      <td>JOY</td>\n",
              "      <td>DESPAIR</td>\n",
              "      <td>JOY</td>\n",
              "      <td>JOY</td>\n",
              "      <td>DESPAIR</td>\n",
              "      <td>DESPAIR</td>\n",
              "      <td>DESPAIR</td>\n",
              "      <td>Reese's crispy crunchy bars, 5th avenue bars, ...</td>\n",
              "      <td>NaN</td>\n",
              "      <td>Raisins can go to hell</td>\n",
              "      <td>White and gold</td>\n",
              "      <td>NaN</td>\n",
              "      <td>Sunday</td>\n",
              "      <td>NaN</td>\n",
              "      <td>1.0</td>\n",
              "      <td>NaN</td>\n",
              "      <td>NaN</td>\n",
              "      <td>(75, 23)</td>\n",
              "    </tr>\n",
              "    <tr>\n",
              "      <th>4</th>\n",
              "      <td>90272841</td>\n",
              "      <td>No</td>\n",
              "      <td>Male</td>\n",
              "      <td>23</td>\n",
              "      <td>usa</td>\n",
              "      <td>exton pa</td>\n",
              "      <td>JOY</td>\n",
              "      <td>DESPAIR</td>\n",
              "      <td>JOY</td>\n",
              "      <td>DESPAIR</td>\n",
              "      <td>MEH</td>\n",
              "      <td>DESPAIR</td>\n",
              "      <td>MEH</td>\n",
              "      <td>DESPAIR</td>\n",
              "      <td>DESPAIR</td>\n",
              "      <td>MEH</td>\n",
              "      <td>MEH</td>\n",
              "      <td>DESPAIR</td>\n",
              "      <td>DESPAIR</td>\n",
              "      <td>JOY</td>\n",
              "      <td>MEH</td>\n",
              "      <td>JOY</td>\n",
              "      <td>DESPAIR</td>\n",
              "      <td>DESPAIR</td>\n",
              "      <td>MEH</td>\n",
              "      <td>DESPAIR</td>\n",
              "      <td>DESPAIR</td>\n",
              "      <td>MEH</td>\n",
              "      <td>JOY</td>\n",
              "      <td>DESPAIR</td>\n",
              "      <td>DESPAIR</td>\n",
              "      <td>DESPAIR</td>\n",
              "      <td>MEH</td>\n",
              "      <td>MEH</td>\n",
              "      <td>DESPAIR</td>\n",
              "      <td>JOY</td>\n",
              "      <td>MEH</td>\n",
              "      <td>DESPAIR</td>\n",
              "      <td>DESPAIR</td>\n",
              "      <td>JOY</td>\n",
              "      <td>...</td>\n",
              "      <td>DESPAIR</td>\n",
              "      <td>JOY</td>\n",
              "      <td>JOY</td>\n",
              "      <td>MEH</td>\n",
              "      <td>JOY</td>\n",
              "      <td>NaN</td>\n",
              "      <td>JOY</td>\n",
              "      <td>JOY</td>\n",
              "      <td>DESPAIR</td>\n",
              "      <td>NaN</td>\n",
              "      <td>MEH</td>\n",
              "      <td>DESPAIR</td>\n",
              "      <td>JOY</td>\n",
              "      <td>JOY</td>\n",
              "      <td>MEH</td>\n",
              "      <td>DESPAIR</td>\n",
              "      <td>MEH</td>\n",
              "      <td>DESPAIR</td>\n",
              "      <td>DESPAIR</td>\n",
              "      <td>JOY</td>\n",
              "      <td>JOY</td>\n",
              "      <td>DESPAIR</td>\n",
              "      <td>JOY</td>\n",
              "      <td>MEH</td>\n",
              "      <td>JOY</td>\n",
              "      <td>JOY</td>\n",
              "      <td>DESPAIR</td>\n",
              "      <td>DESPAIR</td>\n",
              "      <td>JOY</td>\n",
              "      <td>NaN</td>\n",
              "      <td>NaN</td>\n",
              "      <td>NaN</td>\n",
              "      <td>White and gold</td>\n",
              "      <td>NaN</td>\n",
              "      <td>Friday</td>\n",
              "      <td>NaN</td>\n",
              "      <td>1.0</td>\n",
              "      <td>NaN</td>\n",
              "      <td>NaN</td>\n",
              "      <td>(70, 10)</td>\n",
              "    </tr>\n",
              "  </tbody>\n",
              "</table>\n",
              "<p>5 rows × 120 columns</p>\n",
              "</div>"
            ],
            "text/plain": [
              "   Internal ID Q1: GOING OUT?  ... Q12: MEDIA [Yahoo] Click Coordinates (x, y)\n",
              "0     90258773            NaN  ...                NaN                      NaN\n",
              "1     90272821             No  ...                NaN                 (84, 25)\n",
              "2     90272829            NaN  ...                NaN                      NaN\n",
              "3     90272840             No  ...                NaN                 (75, 23)\n",
              "4     90272841             No  ...                NaN                 (70, 10)\n",
              "\n",
              "[5 rows x 120 columns]"
            ]
          },
          "metadata": {
            "tags": []
          },
          "execution_count": 168
        }
      ]
    },
    {
      "cell_type": "code",
      "metadata": {
        "id": "cFk_MDsO28q4",
        "colab_type": "code",
        "outputId": "a902d982-a49f-4184-f624-4e5a8c8e5bb7",
        "colab": {
          "base_uri": "https://localhost:8080/",
          "height": 34
        }
      },
      "source": [
        "df.shape"
      ],
      "execution_count": 0,
      "outputs": [
        {
          "output_type": "execute_result",
          "data": {
            "text/plain": [
              "(2460, 120)"
            ]
          },
          "metadata": {
            "tags": []
          },
          "execution_count": 169
        }
      ]
    },
    {
      "cell_type": "code",
      "metadata": {
        "id": "ADe_itKg3IZw",
        "colab_type": "code",
        "outputId": "437f158c-6590-45ae-b3ba-f1fa8d8a7043",
        "colab": {
          "base_uri": "https://localhost:8080/",
          "height": 34
        }
      },
      "source": [
        "df['Q3: AGE'].isnull().sum()"
      ],
      "execution_count": 0,
      "outputs": [
        {
          "output_type": "execute_result",
          "data": {
            "text/plain": [
              "84"
            ]
          },
          "metadata": {
            "tags": []
          },
          "execution_count": 170
        }
      ]
    },
    {
      "cell_type": "code",
      "metadata": {
        "id": "Seqpsyvu5i4t",
        "colab_type": "code",
        "colab": {}
      },
      "source": [
        "df1 = df.copy()"
      ],
      "execution_count": 0,
      "outputs": []
    },
    {
      "cell_type": "code",
      "metadata": {
        "id": "htJCA8k7JfzB",
        "colab_type": "code",
        "outputId": "9a6e5729-c818-41ca-9318-75cd60ebc4b5",
        "colab": {
          "base_uri": "https://localhost:8080/",
          "height": 255
        }
      },
      "source": [
        "df['Q3: AGE'].unique()"
      ],
      "execution_count": 0,
      "outputs": [
        {
          "output_type": "execute_result",
          "data": {
            "text/plain": [
              "array([nan, '44', '49', '40', '23', '53', '33', '43', '56', '64', '37',\n",
              "       '59', '48', '54', '36', '45', '25', '34', '35', '38', '58', '50',\n",
              "       '47', '16', '52', '63', '65', '41', '27', '31', '61', '46', '42',\n",
              "       '62', '29', '39', '32', '28', '69', '67', '30', '22', '26', '51',\n",
              "       '70', '24', '18', '19', 'Old enough', '57', '60', '66', '12',\n",
              "       'Many', '55', '72', '?', '21', '11', 'no', '9', '68', '20', '6',\n",
              "       '10', '71', '90', '13', '45-55', '312', '99', '7', 'hahahahaha',\n",
              "       '88', '39.4', '74', '102', 'older than dirt', '17', '15', '8',\n",
              "       '75', '5u', 'Enough', 'See question 2', '24-50', '14', 'Over 50',\n",
              "       '100', '76', '1000', 'sixty-nine', '46 Halloweens.', 'ancient',\n",
              "       '77', 'OLD', 'old', '73', '70 1/2', '1', 'MY NAME JEFF', '4',\n",
              "       '59 on the day after Halloween', 'old enough', 'your mom',\n",
              "       'I can remember when Java was a cool new language', '60+'],\n",
              "      dtype=object)"
            ]
          },
          "metadata": {
            "tags": []
          },
          "execution_count": 172
        }
      ]
    },
    {
      "cell_type": "code",
      "metadata": {
        "id": "QSsfbtrW4mmw",
        "colab_type": "code",
        "colab": {}
      },
      "source": [
        "#dropping nan for q3 age\n",
        "df2 = df1.dropna(subset=['Q3: AGE'], axis=0, how='any')\n"
      ],
      "execution_count": 0,
      "outputs": []
    },
    {
      "cell_type": "code",
      "metadata": {
        "id": "i5K_Jh7y4_BG",
        "colab_type": "code",
        "outputId": "0b42b558-e4f5-402a-e50b-22146f351e58",
        "colab": {
          "base_uri": "https://localhost:8080/",
          "height": 34
        }
      },
      "source": [
        "df2.shape"
      ],
      "execution_count": 0,
      "outputs": [
        {
          "output_type": "execute_result",
          "data": {
            "text/plain": [
              "(2376, 120)"
            ]
          },
          "metadata": {
            "tags": []
          },
          "execution_count": 174
        }
      ]
    },
    {
      "cell_type": "code",
      "metadata": {
        "id": "yai-zPsj72cI",
        "colab_type": "code",
        "outputId": "53505264-4cda-411b-edf8-68b51feb5673",
        "colab": {
          "base_uri": "https://localhost:8080/",
          "height": 255
        }
      },
      "source": [
        "# discover problems in data\n",
        "df2['Q3: AGE'].unique()"
      ],
      "execution_count": 0,
      "outputs": [
        {
          "output_type": "execute_result",
          "data": {
            "text/plain": [
              "array(['44', '49', '40', '23', '53', '33', '43', '56', '64', '37', '59',\n",
              "       '48', '54', '36', '45', '25', '34', '35', '38', '58', '50', '47',\n",
              "       '16', '52', '63', '65', '41', '27', '31', '61', '46', '42', '62',\n",
              "       '29', '39', '32', '28', '69', '67', '30', '22', '26', '51', '70',\n",
              "       '24', '18', '19', 'Old enough', '57', '60', '66', '12', 'Many',\n",
              "       '55', '72', '?', '21', '11', 'no', '9', '68', '20', '6', '10',\n",
              "       '71', '90', '13', '45-55', '312', '99', '7', 'hahahahaha', '88',\n",
              "       '39.4', '74', '102', 'older than dirt', '17', '15', '8', '75',\n",
              "       '5u', 'Enough', 'See question 2', '24-50', '14', 'Over 50', '100',\n",
              "       '76', '1000', 'sixty-nine', '46 Halloweens.', 'ancient', '77',\n",
              "       'OLD', 'old', '73', '70 1/2', '1', 'MY NAME JEFF', '4',\n",
              "       '59 on the day after Halloween', 'old enough', 'your mom',\n",
              "       'I can remember when Java was a cool new language', '60+'],\n",
              "      dtype=object)"
            ]
          },
          "metadata": {
            "tags": []
          },
          "execution_count": 175
        }
      ]
    },
    {
      "cell_type": "code",
      "metadata": {
        "id": "95O_Sb_JHAQd",
        "colab_type": "code",
        "outputId": "f7b62efb-715c-4100-93f2-65d1f64d5be9",
        "colab": {
          "base_uri": "https://localhost:8080/",
          "height": 425
        }
      },
      "source": [
        "print(df2['Q3: AGE'])\n",
        "print('-------------------------------------------')\n",
        "print(df2['Q3: AGE'].unique())"
      ],
      "execution_count": 0,
      "outputs": [
        {
          "output_type": "stream",
          "text": [
            "1       44\n",
            "2       49\n",
            "3       40\n",
            "4       23\n",
            "6       53\n",
            "        ..\n",
            "2455    24\n",
            "2456    33\n",
            "2457    26\n",
            "2458    58\n",
            "2459    66\n",
            "Name: Q3: AGE, Length: 2376, dtype: object\n",
            "-------------------------------------------\n",
            "['44' '49' '40' '23' '53' '33' '43' '56' '64' '37' '59' '48' '54' '36'\n",
            " '45' '25' '34' '35' '38' '58' '50' '47' '16' '52' '63' '65' '41' '27'\n",
            " '31' '61' '46' '42' '62' '29' '39' '32' '28' '69' '67' '30' '22' '26'\n",
            " '51' '70' '24' '18' '19' 'Old enough' '57' '60' '66' '12' 'Many' '55'\n",
            " '72' '?' '21' '11' 'no' '9' '68' '20' '6' '10' '71' '90' '13' '45-55'\n",
            " '312' '99' '7' 'hahahahaha' '88' '39.4' '74' '102' 'older than dirt' '17'\n",
            " '15' '8' '75' '5u' 'Enough' 'See question 2' '24-50' '14' 'Over 50' '100'\n",
            " '76' '1000' 'sixty-nine' '46 Halloweens.' 'ancient' '77' 'OLD' 'old' '73'\n",
            " '70 1/2' '1' 'MY NAME JEFF' '4' '59 on the day after Halloween'\n",
            " 'old enough' 'your mom'\n",
            " 'I can remember when Java was a cool new language' '60+']\n"
          ],
          "name": "stdout"
        }
      ]
    },
    {
      "cell_type": "code",
      "metadata": {
        "id": "oT8ZqQluFQxa",
        "colab_type": "code",
        "outputId": "5a68e140-7b93-4829-81f4-71f40afb84de",
        "colab": {
          "base_uri": "https://localhost:8080/",
          "height": 119
        }
      },
      "source": [
        "df2['Q3: AGE'] = pd.to_numeric(df2['Q3: AGE'], errors='coerce')"
      ],
      "execution_count": 0,
      "outputs": [
        {
          "output_type": "stream",
          "text": [
            "/usr/local/lib/python3.6/dist-packages/ipykernel_launcher.py:1: SettingWithCopyWarning: \n",
            "A value is trying to be set on a copy of a slice from a DataFrame.\n",
            "Try using .loc[row_indexer,col_indexer] = value instead\n",
            "\n",
            "See the caveats in the documentation: https://pandas.pydata.org/pandas-docs/stable/user_guide/indexing.html#returning-a-view-versus-a-copy\n",
            "  \"\"\"Entry point for launching an IPython kernel.\n"
          ],
          "name": "stderr"
        }
      ]
    },
    {
      "cell_type": "code",
      "metadata": {
        "id": "XkYN5ZlLL7od",
        "colab_type": "code",
        "outputId": "4cfe492a-c4a6-4c8e-848d-0ae7521488d6",
        "colab": {
          "base_uri": "https://localhost:8080/",
          "height": 34
        }
      },
      "source": [
        "df2['Q3: AGE'].mean()"
      ],
      "execution_count": 0,
      "outputs": [
        {
          "output_type": "execute_result",
          "data": {
            "text/plain": [
              "42.605444491705654"
            ]
          },
          "metadata": {
            "tags": []
          },
          "execution_count": 193
        }
      ]
    },
    {
      "cell_type": "code",
      "metadata": {
        "id": "g_WK1-vAMNu8",
        "colab_type": "code",
        "outputId": "8de50293-0fd4-41ce-a068-e9900781bf8e",
        "colab": {
          "base_uri": "https://localhost:8080/",
          "height": 204
        }
      },
      "source": [
        "df2['Q3: AGE'].unique()"
      ],
      "execution_count": 0,
      "outputs": [
        {
          "output_type": "execute_result",
          "data": {
            "text/plain": [
              "array([  44. ,   49. ,   40. ,   23. ,   53. ,   33. ,   43. ,   56. ,\n",
              "         64. ,   37. ,   59. ,   48. ,   54. ,   36. ,   45. ,   25. ,\n",
              "         34. ,   35. ,   38. ,   58. ,   50. ,   47. ,   16. ,   52. ,\n",
              "         63. ,   65. ,   41. ,   27. ,   31. ,   61. ,   46. ,   42. ,\n",
              "         62. ,   29. ,   39. ,   32. ,   28. ,   69. ,   67. ,   30. ,\n",
              "         22. ,   26. ,   51. ,   70. ,   24. ,   18. ,   19. ,    nan,\n",
              "         57. ,   60. ,   66. ,   12. ,   55. ,   72. ,   21. ,   11. ,\n",
              "          9. ,   68. ,   20. ,    6. ,   10. ,   71. ,   90. ,   13. ,\n",
              "        312. ,   99. ,    7. ,   88. ,   39.4,   74. ,  102. ,   17. ,\n",
              "         15. ,    8. ,   75. ,   14. ,  100. ,   76. , 1000. ,   77. ,\n",
              "         73. ,    1. ,    4. ])"
            ]
          },
          "metadata": {
            "tags": []
          },
          "execution_count": 195
        }
      ]
    },
    {
      "cell_type": "code",
      "metadata": {
        "id": "qNDhtZgnKSpm",
        "colab_type": "code",
        "outputId": "8621f44e-8b77-4ab6-8c2b-9a36022b4625",
        "colab": {
          "base_uri": "https://localhost:8080/",
          "height": 187
        }
      },
      "source": [
        "#dropping nan again after coercing\n",
        "df3 = df2.dropna(subset=['Q3: AGE'], axis=0, how='any')\n",
        "print(df3.shape)\n",
        "print(df3['Q3: AGE'].unique())\n"
      ],
      "execution_count": 0,
      "outputs": [
        {
          "output_type": "stream",
          "text": [
            "(2351, 120)\n",
            "[  44.    49.    40.    23.    53.    33.    43.    56.    64.    37.\n",
            "   59.    48.    54.    36.    45.    25.    34.    35.    38.    58.\n",
            "   50.    47.    16.    52.    63.    65.    41.    27.    31.    61.\n",
            "   46.    42.    62.    29.    39.    32.    28.    69.    67.    30.\n",
            "   22.    26.    51.    70.    24.    18.    19.    57.    60.    66.\n",
            "   12.    55.    72.    21.    11.     9.    68.    20.     6.    10.\n",
            "   71.    90.    13.   312.    99.     7.    88.    39.4   74.   102.\n",
            "   17.    15.     8.    75.    14.   100.    76.  1000.    77.    73.\n",
            "    1.     4. ]\n"
          ],
          "name": "stdout"
        }
      ]
    },
    {
      "cell_type": "code",
      "metadata": {
        "id": "rQy2wmNC_NuH",
        "colab_type": "code",
        "outputId": "51ff02d6-ecec-497a-b624-a57d77f8b2f3",
        "colab": {
          "base_uri": "https://localhost:8080/",
          "height": 34
        }
      },
      "source": [
        "#calculating standard deviation\n",
        "std = df3['Q3: AGE'].std()\n",
        "mean = df3['Q3: AGE'].mean()\n",
        "print(std, mean)"
      ],
      "execution_count": 0,
      "outputs": [
        {
          "output_type": "stream",
          "text": [
            "23.844665492989364 42.605444491705654\n"
          ],
          "name": "stdout"
        }
      ]
    },
    {
      "cell_type": "code",
      "metadata": {
        "id": "5qUIWQE6_mC-",
        "colab_type": "code",
        "outputId": "b675509e-e3a2-4acc-f206-a73984c3a1ab",
        "colab": {
          "base_uri": "https://localhost:8080/",
          "height": 51
        }
      },
      "source": [
        "upper, lower = 2*std + df4.mean(), df4.mean() - 2*std\n",
        "print(upper)\n",
        "print(lower)"
      ],
      "execution_count": 0,
      "outputs": [
        {
          "output_type": "stream",
          "text": [
            "90.29477547768438\n",
            "-5.083886494273074\n"
          ],
          "name": "stdout"
        }
      ]
    },
    {
      "cell_type": "code",
      "metadata": {
        "id": "EmfPe0A5AHF4",
        "colab_type": "code",
        "colab": {}
      },
      "source": [
        "# Trim the outliers\n",
        "trimmed_df = df3[(df3['Q3: AGE'] > lower) & (df3['Q3: AGE'] < upper)]"
      ],
      "execution_count": 0,
      "outputs": []
    },
    {
      "cell_type": "code",
      "metadata": {
        "id": "A6hxiXizBbvD",
        "colab_type": "code",
        "outputId": "113f0f0e-f632-4139-ce28-727e879e2522",
        "colab": {
          "base_uri": "https://localhost:8080/",
          "height": 281
        }
      },
      "source": [
        "# The trimmed box plot\n",
        "trimmed_df[['Q3: AGE']].hist()\n",
        "plt.show()\n",
        "\n",
        "##there are 10 bins!!! :) :) "
      ],
      "execution_count": 0,
      "outputs": [
        {
          "output_type": "display_data",
          "data": {
            "image/png": "[encoded data removed]",
            "text/plain": [
              "<Figure size 432x288 with 1 Axes>"
            ]
          },
          "metadata": {
            "tags": [],
            "needs_background": "light"
          }
        }
      ]
    },
    {
      "cell_type": "markdown",
      "metadata": {
        "id": "ivHm4WAEkMSj",
        "colab_type": "text"
      },
      "source": [
        "# AI4I Quiz 4\n"
      ]
    },
    {
      "cell_type": "markdown",
      "metadata": {
        "id": "sao9uIRUXS57",
        "colab_type": "text"
      },
      "source": [
        "**Background**\n",
        "---\n",
        "Your manager has asked you to analyze some data from the HR department.\n",
        "The table below shows values from some of the features available.\n",
        "\n",
        "---\n",
        "<table>\n",
        "<tr>\n",
        "<th>MarriedID\t</th><th>GenderID</th>\t<th>DeptID\t<th>PayRate\t<th>EngagementSurvey\t<th>EmpSatisfaction<th>\tSpecialProjectsCount<th>\tDaysLateLast30<th>\tTermd<th>\n",
        "</tr>\n",
        "<td> 0 <td>\t1.0 <td>\t0.0<td>\t1.0\t<td>28.50\t<td>2.04<td>\t2.0\t<td>6.0\t<td>0.0<td>\t0.0 <td> \n",
        "</tr>\n",
        "<tr> \n",
        "<td> 1\t<td>0.0<td>\t1.0<td>\t1.0\t<td>23.00<td>5.00\t<td>4.0\t<td>4.0\t<td>0.0\t<td>0.0<td>\n",
        "</tr>\n",
        "<tr> \n",
        "2\t<td>0.0<td>\t1.0\t<td>1.0\t<td>29.00<td>3.90\t<td>5.0\t<td>5.0<td>\t0.0<td>\t0.0<td>\n",
        "</tr>\n",
        "<tr> \n",
        "3\t<td>1.0<td>0.0<td>\t1.0<td>\t21.50<td>\t3.24<td>\t3.0\t<td>4.0\t<td>NaN\t<td>1.0 \n",
        "</tr>\n",
        "<tr> \n",
        "4\t<td>0.0\t<td>0.0<td>\t1.0<td>\t16.56<td>\t5.00<td>\t3.0<td>\t5.0\t<td>0.0<td>\t0.0 <td>\n",
        "</tr>\n",
        "</table>\n",
        "\n",
        "-----\n",
        "\n",
        "One of the first things you want to look at are the Terminated employees (Termd column) and how engaged they are compared to those still under employment. You are curious about the overall data spread (exact data points are not necessary). Which plot would you use to show this?"
      ]
    },
    {
      "cell_type": "markdown",
      "metadata": {
        "id": "omWk7GXmXXEB",
        "colab_type": "text"
      },
      "source": [
        "*Box plot*"
      ]
    },
    {
      "cell_type": "markdown",
      "metadata": {
        "id": "ygH1DkFDXY5h",
        "colab_type": "text"
      },
      "source": [
        "You then want to look at what the employees are earning. To do that, you plot the ECDF (Empirical Cumulative Distribution Function) graph for the hourly pay rate. From the chart below, what proportion of the employees are earning $40 or less per hour."
      ]
    },
    {
      "cell_type": "markdown",
      "metadata": {
        "id": "FRfPUoXPZ06W",
        "colab_type": "text"
      },
      "source": [
        "![image.png](data:image/png;base64,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)"
      ]
    },
    {
      "cell_type": "markdown",
      "metadata": {
        "id": "aRgsS0W3Z4hE",
        "colab_type": "text"
      },
      "source": [
        "*70%*"
      ]
    },
    {
      "cell_type": "markdown",
      "metadata": {
        "id": "jCX9NDjIZ95N",
        "colab_type": "text"
      },
      "source": [
        "Your manager wanted to know whether married employess were more satisfied or less satisfied compared to unmarried employees. You generated the Employee satisfication confidence intervals for the two groups of employees. For the married employees, the 95% condfidence intervals were [3.59, 3.91] with a mean of 3.75. For the unmarried employees, the mean satisfaction rating was 3.98 with 95% confidence intervals [3.85, 4.11]. What is your opinion?"
      ]
    },
    {
      "cell_type": "markdown",
      "metadata": {
        "id": "tm31oxsTaBOs",
        "colab_type": "text"
      },
      "source": [
        "There is no statistical difference between the married and unmarried employees."
      ]
    },
    {
      "cell_type": "markdown",
      "metadata": {
        "id": "-QOpE2CBaHwt",
        "colab_type": "text"
      },
      "source": [
        "You want to study if there exists a correlation between the pay rate and the employee engagement. To improve your confidence in the calculation, you decide to apply bootstrapping before calculating the replicate. Complete the function below:"
      ]
    },
    {
      "cell_type": "markdown",
      "metadata": {
        "id": "yVHyROfCaLV9",
        "colab_type": "text"
      },
      "source": [
        "\n",
        "\n",
        "```\n",
        "# def draw_bs_pairs (x, y, func, size=1):\n",
        "  # Set up array of indices\n",
        "  inds = np.arange(len(x))\n",
        "  # Initialize the array of replicates\n",
        "  bs_rep= np.empty(size)\n",
        "  for i in range(size):\n",
        "    bs_inds = np.random.choice\n",
        "(inds, size = len(inds))\n",
        "    bs_x = x[bs_inds]\n",
        "    bs_y = y[bs_inds]\n",
        "    bs_rep[i] = func([bs_x,bs_y][bs_x,bs_y])\n",
        "  return bs_rep\n",
        "```\n",
        "\n"
      ]
    },
    {
      "cell_type": "markdown",
      "metadata": {
        "id": "bDlmAmA4aUQd",
        "colab_type": "text"
      },
      "source": [
        "The full dataset has 103 features in total. You decide to try a few dimension reduction techniques. Why do you want to do that?"
      ]
    },
    {
      "cell_type": "markdown",
      "metadata": {
        "id": "t2hDmMTpaZkU",
        "colab_type": "text"
      },
      "source": [
        "####The data will be less complex.\\n\n",
        "####The data will require less disk space.\n",
        "####It will take less computation time to process the data.\n",
        "####During modeling, there is a lower chance of overfitting.\n",
        "####**All of the above**"
      ]
    },
    {
      "cell_type": "code",
      "metadata": {
        "id": "ID6HvH_4ajsP",
        "colab_type": "code",
        "colab": {}
      },
      "source": [
        ""
      ],
      "execution_count": 0,
      "outputs": []
    },
    {
      "cell_type": "markdown",
      "metadata": {
        "id": "tng_RlfMSh5N",
        "colab_type": "text"
      },
      "source": [
        "# AI4I Quiz 5"
      ]
    },
    {
      "cell_type": "code",
      "metadata": {
        "id": "RyLon-O7Sr1I",
        "colab_type": "code",
        "outputId": "0749732f-4a36-41a0-c552-8d16ebece552",
        "colab": {
          "base_uri": "https://localhost:8080/",
          "height": 51
        }
      },
      "source": [
        "#Use this cell to import libraries\n",
        "import pandas as pd\n",
        "import numpy as np\n",
        "import matplotlib.pyplot as plt\n",
        "import seaborn as sns\n",
        "sns.set()"
      ],
      "execution_count": 0,
      "outputs": [
        {
          "output_type": "stream",
          "text": [
            "/usr/local/lib/python3.6/dist-packages/statsmodels/tools/_testing.py:19: FutureWarning: pandas.util.testing is deprecated. Use the functions in the public API at pandas.testing instead.\n",
            "  import pandas.util.testing as tm\n"
          ],
          "name": "stderr"
        }
      ]
    },
    {
      "cell_type": "code",
      "metadata": {
        "id": "zdFgNDadT49Y",
        "colab_type": "code",
        "colab": {}
      },
      "source": [
        "#Mounting Drive\n",
        "%cd My Drive/Colab Notebooks/AI4I/home-data-for-ml-course"
      ],
      "execution_count": 0,
      "outputs": []
    },
    {
      "cell_type": "markdown",
      "metadata": {
        "id": "IbrpK0BRoH2q",
        "colab_type": "text"
      },
      "source": [
        "For Questions 1 – 7: you may refer to SUP-3: Regression’s ‘Exploratory Data Analysis’ section for more details."
      ]
    },
    {
      "cell_type": "code",
      "metadata": {
        "id": "sAycV0nsSkw-",
        "colab_type": "code",
        "colab": {}
      },
      "source": [
        "#Q1. How many total attributes are there in train.csv?\n",
        "#Loading the CSV file into Pandas\n",
        "train_df = pd.read_csv('train.csv')\n",
        "print(train_df.shape)\n",
        "print('It has ' + str(train_df.shape[1]-1)+ ' features!')\n",
        "#It has 80 features, 1st Column is Index"
      ],
      "execution_count": 0,
      "outputs": []
    },
    {
      "cell_type": "code",
      "metadata": {
        "id": "a4D8H4tOS19F",
        "colab_type": "code",
        "outputId": "1caaa37c-ec61-489f-fc19-f731c568e260",
        "colab": {
          "base_uri": "https://localhost:8080/",
          "height": 34
        }
      },
      "source": [
        "#Q2. How many of these attributes contain categorical values?\n",
        "print('It has ' + str(train_df.describe(exclude=[np.number]).shape[1])+ ' categorical values!')"
      ],
      "execution_count": 0,
      "outputs": [
        {
          "output_type": "stream",
          "text": [
            "It has 43 categorical values!\n"
          ],
          "name": "stdout"
        }
      ]
    },
    {
      "cell_type": "code",
      "metadata": {
        "id": "l4QBW9d0XFrY",
        "colab_type": "code",
        "outputId": "a84b4bab-5eba-4b19-d402-c30a5b7624ca",
        "colab": {
          "base_uri": "https://localhost:8080/",
          "height": 34
        }
      },
      "source": [
        "#Q3. What is the median value for the target attribute, SalePrice?\n",
        "print('The median sales price is: ' + str(train_df['SalePrice'].median()) + '.')"
      ],
      "execution_count": 0,
      "outputs": [
        {
          "output_type": "stream",
          "text": [
            "The median sales price is: 163000.0.\n"
          ],
          "name": "stdout"
        }
      ]
    },
    {
      "cell_type": "code",
      "metadata": {
        "id": "va-8bCxLdoQj",
        "colab_type": "code",
        "outputId": "7ca648bf-eb8c-4330-9bd2-abdb4c3920ed",
        "colab": {
          "base_uri": "https://localhost:8080/",
          "height": 34
        }
      },
      "source": [
        "#Q4. How many uniques values are for the SaleType attribute?\n",
        "print('The number of unique values in SaleType is: ' + str(len(train_df['SaleType'].unique())) + '.')"
      ],
      "execution_count": 0,
      "outputs": [
        {
          "output_type": "stream",
          "text": [
            "The number of unique values in SaleType is: 9.\n"
          ],
          "name": "stdout"
        }
      ]
    },
    {
      "cell_type": "code",
      "metadata": {
        "id": "jU5R6MVtd77R",
        "colab_type": "code",
        "outputId": "eb8dbd5d-8c98-4edb-e603-25c6632d44c3",
        "colab": {
          "base_uri": "https://localhost:8080/",
          "height": 530
        }
      },
      "source": [
        "#Q5. How would describe the shape of the histogram for SalePrice?\n",
        "\n",
        "#Setting the Plotsize\n",
        "plt.figure(figsize=[10, 8])\n",
        "\n",
        "#Plot with Seaborn\n",
        "sns.distplot(train_df['SalePrice'])\n",
        "\n",
        "#Result is positively skewed (Leans left)"
      ],
      "execution_count": 0,
      "outputs": [
        {
          "output_type": "execute_result",
          "data": {
            "text/plain": [
              "<matplotlib.axes._subplots.AxesSubplot at 0x7fb081ffb5f8>"
            ]
          },
          "metadata": {
            "tags": []
          },
          "execution_count": 44
        },
        {
          "output_type": "display_data",
          "data": {
            "image/png": "[encoded data removed]",
            "text/plain": [
              "<Figure size 720x576 with 1 Axes>"
            ]
          },
          "metadata": {
            "tags": []
          }
        }
      ]
    },
    {
      "cell_type": "code",
      "metadata": {
        "id": "pcx60rDdeqH4",
        "colab_type": "code",
        "outputId": "01c00343-95bb-4012-9441-61c9899734b7",
        "colab": {
          "base_uri": "https://localhost:8080/",
          "height": 136
        }
      },
      "source": [
        "#Q6. For the numerical attributes shown below, sort them by DECREASING order of correlation with SalePrice.\n",
        "train_df_qn6 = train_df[['YearBuilt', '1stFlrSF', 'OverallQual','BsmtFinSF1','SalePrice']]\n",
        "print('---This is the ranking in DESCENDING CORR---')\n",
        "print(train_df_qn6.corr().iloc[:,-1].sort_values(ascending=False))"
      ],
      "execution_count": 0,
      "outputs": [
        {
          "output_type": "stream",
          "text": [
            "---This is the ranking in DESCENDING CORR---\n",
            "SalePrice      1.000000\n",
            "OverallQual    0.790982\n",
            "1stFlrSF       0.605852\n",
            "YearBuilt      0.522897\n",
            "BsmtFinSF1     0.386420\n",
            "Name: SalePrice, dtype: float64\n"
          ],
          "name": "stdout"
        }
      ]
    },
    {
      "cell_type": "code",
      "metadata": {
        "id": "ctLGgh1NiChD",
        "colab_type": "code",
        "outputId": "28cc8d5e-c07c-4a77-ba3d-5f1fcf839d44",
        "colab": {
          "base_uri": "https://localhost:8080/",
          "height": 272
        }
      },
      "source": [
        "#Q7. Which CATEGORICAL attribute has the most missing values?\n",
        "\n",
        "cols = ['PoolQC','MiscFeature','LotFrontage']\n",
        "category_ms = train_df[cols]\n",
        "print(category_ms.head())\n",
        "print(type(category_ms))\n",
        "category_ms_counts = category_ms.isna().sum()  \n",
        "print('-----')\n",
        "print(type(category_ms_counts))\n",
        "print(category_ms_counts)\n",
        "print('-----')\n",
        "print(category_ms_counts.idxmax() + ' has the most missing values')"
      ],
      "execution_count": 0,
      "outputs": [
        {
          "output_type": "stream",
          "text": [
            "  PoolQC MiscFeature  LotFrontage\n",
            "0    NaN         NaN         65.0\n",
            "1    NaN         NaN         80.0\n",
            "2    NaN         NaN         68.0\n",
            "3    NaN         NaN         60.0\n",
            "4    NaN         NaN         84.0\n",
            "<class 'pandas.core.frame.DataFrame'>\n",
            "-----\n",
            "<class 'pandas.core.series.Series'>\n",
            "PoolQC         1453\n",
            "MiscFeature    1406\n",
            "LotFrontage     259\n",
            "dtype: int64\n",
            "-----\n",
            "PoolQC has the most missing values\n"
          ],
          "name": "stdout"
        }
      ]
    },
    {
      "cell_type": "markdown",
      "metadata": {
        "id": "a02S29L9AhWB",
        "colab_type": "text"
      },
      "source": [
        "For Questions 8 – 13: you may refer to SUP-3: Regression’s ‘Building a Linear Regression Model’ section for more details."
      ]
    },
    {
      "cell_type": "code",
      "metadata": {
        "id": "sbAHT0o7iBI8",
        "colab_type": "code",
        "colab": {}
      },
      "source": [
        "#Q8. When splitting your input data into train and test datasets, what should you do if the data is ordered e.g. sorted by a user id or one of the other attributes?\n",
        "#Add shuffle=True parameter to train_test_split()"
      ],
      "execution_count": 0,
      "outputs": []
    },
    {
      "cell_type": "markdown",
      "metadata": {
        "id": "732IE7vcA5FG",
        "colab_type": "text"
      },
      "source": [
        "\n",
        "\n",
        "1.   Nothing. It has no effect on the outcome of the model training.\n",
        "2.   Add shuffle=True parameter totrain_test_split()\n",
        "3.   Change the value for random_state parameter in train_test_split\n",
        "4.   Add stratify parameter to train_test_split()\n"
      ]
    },
    {
      "cell_type": "code",
      "metadata": {
        "id": "WA4h6IA6Abpi",
        "colab_type": "code",
        "colab": {}
      },
      "source": [
        "#Q9. In reference to the python script built in this lesson, how would you examine the Linear Regression coefficients (or weights) of the trained model?\n",
        "#print(model.named_steps['linearregression'].coef_)"
      ],
      "execution_count": 0,
      "outputs": []
    },
    {
      "cell_type": "markdown",
      "metadata": {
        "id": "2qvTaPlwBWD-",
        "colab_type": "text"
      },
      "source": [
        "1.   print(model.coef_)\n",
        "2.   Cannot be done as the model is hidden within the pipeline.\n",
        "3.   print(model.named_steps['linearregression'].coef_)"
      ]
    },
    {
      "cell_type": "code",
      "metadata": {
        "id": "fTpxwmjiB_YY",
        "colab_type": "code",
        "colab": {}
      },
      "source": [
        "#Q10. Instead of using sklearn.metrics.r2_score, how you calculate the coefficient of determination (r2 score) in this script?\n",
        "#model.named_steps['linearregression'].score(X,y)"
      ],
      "execution_count": 0,
      "outputs": []
    },
    {
      "cell_type": "markdown",
      "metadata": {
        "id": "7FhAps_PCBxc",
        "colab_type": "text"
      },
      "source": [
        "1.   **model.named_steps['linearregression'].score(X,y)**\n",
        "2.   model.score(X,y)\n",
        "3.   There is no alternative way."
      ]
    },
    {
      "cell_type": "code",
      "metadata": {
        "id": "2hjUPZ58C7lX",
        "colab_type": "code",
        "outputId": "2819448c-c964-4a4f-80ea-76d1d94903db",
        "colab": {
          "base_uri": "https://localhost:8080/",
          "height": 34
        }
      },
      "source": [
        "#Q11. Use the following configuration in the python script:\n",
        "# Apply GetAge() and StandardScaler() to  numerical_features\n",
        "# Follow the parameters described in the lesson for test_train_split i.e. test_size=0.3, random_state=42\n",
        "# Rounded to the nearest thousand dollars, what is the Root Mean Square error (RMSE) when the model is scored on x_test?\n",
        "#Refer to SUP3 notebook: (might be wrong?)\n",
        "\n",
        "print(np.sqrt(1930680857.92))"
      ],
      "execution_count": 0,
      "outputs": [
        {
          "output_type": "stream",
          "text": [
            "43939.51362862361\n"
          ],
          "name": "stdout"
        }
      ]
    },
    {
      "cell_type": "code",
      "metadata": {
        "id": "AsDCk7-NDqwZ",
        "colab_type": "code",
        "colab": {}
      },
      "source": [
        "#Q12. Using the same program configuration as described in the previous question, what it the coefficient of determination, rounded to 2 decimal places, when scored against x_test?"
      ],
      "execution_count": 0,
      "outputs": []
    },
    {
      "cell_type": "markdown",
      "metadata": {
        "id": "0jZTFrsqHEYz",
        "colab_type": "text"
      },
      "source": [
        "Refer to SUP3 notebook: 0.74"
      ]
    },
    {
      "cell_type": "code",
      "metadata": {
        "id": "43ggO6RWHDo6",
        "colab_type": "code",
        "colab": {}
      },
      "source": [
        "#Q13. An overfitted model is typically characterized by …\n",
        "#Low Bias, High Variance"
      ],
      "execution_count": 0,
      "outputs": []
    },
    {
      "cell_type": "markdown",
      "metadata": {
        "id": "TOOEj_wDKPSV",
        "colab_type": "text"
      },
      "source": [
        "For Questions 14 – 17: you may refer to SUP-3: Regression’s ‘Understanding Bias/Variance Trade-off’ section for more details."
      ]
    },
    {
      "cell_type": "code",
      "metadata": {
        "id": "wttkh2v2KKAA",
        "colab_type": "code",
        "colab": {}
      },
      "source": [
        "#Q14. What kind of error is caused by randomness or natural variabilities in the data generated by a system?\n",
        "#Variance Error"
      ],
      "execution_count": 0,
      "outputs": []
    },
    {
      "cell_type": "code",
      "metadata": {
        "id": "rcmqnHakKR7l",
        "colab_type": "code",
        "colab": {}
      },
      "source": [
        "#Q15. The discovery of bias and variance decomposition led to the development of regularization techniques in regression algorithms.\n",
        "#True"
      ],
      "execution_count": 0,
      "outputs": []
    },
    {
      "cell_type": "code",
      "metadata": {
        "id": "FZma5ob0LjJo",
        "colab_type": "code",
        "colab": {}
      },
      "source": [
        "#Q16. To the nearest 2 decimal place, what is the coefficient of determination (R2) value for the lower order model (i.e. Linear Regression)  calculated for the training data?\n",
        "#Refer to: Ex_BiasVariance_soln.ipynb\n",
        "#Lower Order Model Errors, RMSE = 4.0538e+04, R2 = 0.69498\n",
        "#R2 to 2DF = 0.70 #Attempt 1\n",
        "#This is incorrect, next attempt try 0.69\n",
        "#R2 to 2DF = 0.69 #Attempt 2\n",
        "#This is incorrect, next attempt?\n",
        "#R2 to 2DF = 0.88 #Correct!\n",
        "\n",
        "# Lower Order Model Errors, RMSE = 3.2534e+04, R2 = 0.87566\n",
        "# Higher Order Model Errors, RMSE = 5812.0, R2 = 0.99603"
      ],
      "execution_count": 0,
      "outputs": []
    },
    {
      "cell_type": "code",
      "metadata": {
        "id": "DOCqFEG_PbIe",
        "colab_type": "code",
        "colab": {}
      },
      "source": [
        "#Q17 Based on the validation curve at the end of the exercise, what will be the best polynomial order to use when developing the model?\n",
        "#3, Refer to chart below"
      ],
      "execution_count": 0,
      "outputs": []
    },
    {
      "cell_type": "markdown",
      "metadata": {
        "id": "pBg-wV0RRqyq",
        "colab_type": "text"
      },
      "source": [
        "![image.png](data:image/png;base64,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)"
      ]
    },
    {
      "cell_type": "markdown",
      "metadata": {
        "id": "2LphoZPRRxoA",
        "colab_type": "text"
      },
      "source": [
        "For Questions 18 – 21: you may refer to SUP-3: Regression’s ‘Building a KNN Regressor’ section for more details.\n",
        "\n",
        "For questions related to the Exercise python script, please use the same preprocessing steps defined in the lesson i.e.\n",
        "\n",
        "GetAge(), SimpleImputer() and StandardScaler() for the numerical features\n",
        "OneHotEncoder() for the categorical features"
      ]
    },
    {
      "cell_type": "code",
      "metadata": {
        "id": "Fv4jOZo3R67X",
        "colab_type": "code",
        "colab": {}
      },
      "source": [
        "#Q18. Which GridSearchCV attribute will give us the best score from the parameter search?\n",
        "#best_score_"
      ],
      "execution_count": 0,
      "outputs": []
    },
    {
      "cell_type": "code",
      "metadata": {
        "id": "p6HopIUhdRWn",
        "colab_type": "code",
        "colab": {}
      },
      "source": [
        "#Q19. Using the code and parameters as defined in the lesson, what is the optimum number of neighbors found?\n",
        "#9"
      ],
      "execution_count": 0,
      "outputs": []
    },
    {
      "cell_type": "code",
      "metadata": {
        "id": "4haKVm8tiWby",
        "colab_type": "code",
        "colab": {}
      },
      "source": [
        "#Q20. To the nearest 2 decimal places, what is the r2 score on the test dataset?\n",
        "0.82"
      ],
      "execution_count": 0,
      "outputs": []
    },
    {
      "cell_type": "code",
      "metadata": {
        "id": "CYE5Fr64iaqX",
        "colab_type": "code",
        "colab": {}
      },
      "source": [
        "#Q21. The new model using KNN is better than the model in lesson 2 which uses Linear Regression.\n",
        "#True"
      ],
      "execution_count": 0,
      "outputs": []
    },
    {
      "cell_type": "code",
      "metadata": {
        "id": "yHD7uMmOikM2",
        "colab_type": "code",
        "colab": {}
      },
      "source": [
        "#Q22. How many rows are there in the original dataset (from ‘Telco_customer_churn.xlsx’)?\n",
        "#7043,32 (.shape in dataset)"
      ],
      "execution_count": 0,
      "outputs": []
    },
    {
      "cell_type": "code",
      "metadata": {
        "id": "x6uSPzk5imCf",
        "colab_type": "code",
        "colab": {}
      },
      "source": [
        "#Q23. How many rows of data are missing from the TotalCharges columns?\n",
        "#11"
      ],
      "execution_count": 0,
      "outputs": []
    },
    {
      "cell_type": "code",
      "metadata": {
        "id": "s0f6NZpWiove",
        "colab_type": "code",
        "colab": {}
      },
      "source": [
        "#Q24. How would you describe the type of data that is contained in the Dependents column?\n",
        "#Categorical"
      ],
      "execution_count": 0,
      "outputs": []
    },
    {
      "cell_type": "code",
      "metadata": {
        "id": "xDsqjtPfiu-e",
        "colab_type": "code",
        "colab": {}
      },
      "source": [
        "#Q25. To the nearest 2 decimal places, what is the mean tenure duration for the dataset AFTER removing the null data?\n",
        "#32.42"
      ],
      "execution_count": 0,
      "outputs": []
    },
    {
      "cell_type": "code",
      "metadata": {
        "id": "1T9JGSiDixtX",
        "colab_type": "code",
        "colab": {}
      },
      "source": [
        "#Q26. Make density plots of the numerical features of the data, grouping by the ChurnLabel value. Which feature does this plot refer to ?\n",
        "#TenureMonths"
      ],
      "execution_count": 0,
      "outputs": []
    },
    {
      "cell_type": "code",
      "metadata": {
        "id": "6ytxi1dyi124",
        "colab_type": "code",
        "colab": {}
      },
      "source": [
        "#Q27. Based on the exercise, which of the following is NOT a necessary import:\n",
        "#from sklearn.preprocessing import Normalizer"
      ],
      "execution_count": 0,
      "outputs": []
    },
    {
      "cell_type": "code",
      "metadata": {
        "id": "7Xd_DBili6Fm",
        "colab_type": "code",
        "colab": {}
      },
      "source": [
        "#Q28. Of the customers loaded from the dataset, how many churned?\n",
        "#1869"
      ],
      "execution_count": 0,
      "outputs": []
    },
    {
      "cell_type": "code",
      "metadata": {
        "id": "jtb99EJ_i-Te",
        "colab_type": "code",
        "colab": {}
      },
      "source": [
        "#Q29. Which of the following is a categorical feature as defined in the exercise?\n",
        "#DeliveryProtection"
      ],
      "execution_count": 0,
      "outputs": []
    },
    {
      "cell_type": "code",
      "metadata": {
        "id": "9Cy15TZAjCd_",
        "colab_type": "code",
        "colab": {}
      },
      "source": [
        "#Q30. What is the Precision score calculated on the test data (to the nearest 2 decimal places)?\n",
        "#Attempt 1: 0.63 "
      ],
      "execution_count": 0,
      "outputs": []
    },
    {
      "cell_type": "code",
      "metadata": {
        "id": "ZBQ-Dw3bjI5X",
        "colab_type": "code",
        "colab": {}
      },
      "source": [
        "#Q31. What is the area under the curve (AUC) for the Receiver Operating Characteristics (ROC) graph when evaluated on the test data (to the nearest 2 decimal places)?\n",
        "##Attempt 1: 0.72"
      ],
      "execution_count": 0,
      "outputs": []
    },
    {
      "cell_type": "code",
      "metadata": {
        "id": "LjNNA5xzjPmY",
        "colab_type": "code",
        "colab": {}
      },
      "source": [
        "#Q32. According to the provided Datacamp tutorial, which two metrics are commonly used to evaluate Classification models?\n",
        "#Precision, Recall"
      ],
      "execution_count": 0,
      "outputs": []
    },
    {
      "cell_type": "code",
      "metadata": {
        "id": "igjC47aOjXIU",
        "colab_type": "code",
        "colab": {}
      },
      "source": [
        "#Q33. Based on the current version of the imbalance-learn library, what parameter can you use to control the amount of oversampling of the minority class?\n",
        "#sampling_strategy=0.5"
      ],
      "execution_count": 0,
      "outputs": []
    },
    {
      "cell_type": "code",
      "metadata": {
        "id": "TJdsunRijbH1",
        "colab_type": "code",
        "colab": {}
      },
      "source": [
        "#Q34. Applying RandomOverSampler as described in the Exercise, the AUC (to the nearest 2 decimal places) for the ROC curve is              than the model using the imbalanced data from the previous lesson?\n",
        "#Same"
      ],
      "execution_count": 0,
      "outputs": []
    },
    {
      "cell_type": "code",
      "metadata": {
        "id": "R6zWZXCVjgjF",
        "colab_type": "code",
        "colab": {}
      },
      "source": [
        "#Q35. Using GridSearchCV, what the optimum max_depth found for the Decision Tree model?\n",
        "#3"
      ],
      "execution_count": 0,
      "outputs": []
    },
    {
      "cell_type": "code",
      "metadata": {
        "id": "5A0i8pYGjkcu",
        "colab_type": "code",
        "colab": {}
      },
      "source": [
        "#Q36. What was the optimum value found for the max_features parameter in the Random Forest model?\n",
        "#0.6"
      ],
      "execution_count": 0,
      "outputs": []
    },
    {
      "cell_type": "code",
      "metadata": {
        "id": "TRzSTA7Ajp9l",
        "colab_type": "code",
        "colab": {}
      },
      "source": [
        "#Q37. Which parameter can we add to VotingClassifier to use soft voting to predict the class labels?\n",
        "#voting='soft'"
      ],
      "execution_count": 0,
      "outputs": []
    },
    {
      "cell_type": "code",
      "metadata": {
        "id": "SaSbssNKjvBF",
        "colab_type": "code",
        "colab": {}
      },
      "source": [
        "#Q38. Based on the AUC of the ROC curve, the ensembled model built using the VotingClassifier is the best model compared to its constituent models.\n",
        "#True"
      ],
      "execution_count": 0,
      "outputs": []
    },
    {
      "cell_type": "markdown",
      "metadata": {
        "id": "yltUnv1LWejK",
        "colab_type": "text"
      },
      "source": [
        "# AI4I Quiz 6\n"
      ]
    },
    {
      "cell_type": "code",
      "metadata": {
        "id": "vk2ac0vmWhRw",
        "colab_type": "code",
        "colab": {}
      },
      "source": [
        "#What are the main drawbacks when using dimension reduction techniques on your data?\n",
        "#All of the above"
      ],
      "execution_count": 0,
      "outputs": []
    },
    {
      "cell_type": "code",
      "metadata": {
        "id": "yIE9YLwIXiBo",
        "colab_type": "code",
        "colab": {}
      },
      "source": [
        "#Imagine performing PCA on a 1000 dimension dataset and you set the explained variance to 95%. How many dimensions will the resulting dataset have?\n",
        "#Trick Question! Depends on the dataset"
      ],
      "execution_count": 0,
      "outputs": []
    },
    {
      "cell_type": "code",
      "metadata": {
        "id": "CFchezs0Xo-_",
        "colab_type": "code",
        "colab": {}
      },
      "source": [
        "#How should you NOT select the optimum number of clusters k in a K-Means Clustering technique?\n",
        "#B only"
      ],
      "execution_count": 0,
      "outputs": []
    },
    {
      "cell_type": "code",
      "metadata": {
        "id": "H1BqpckvXw6W",
        "colab_type": "code",
        "colab": {}
      },
      "source": [
        "#Complete the code snippet below to perform hierarchical clustering on the dataset. Assume that scipy.cluster has been imported for you.\n",
        "\n",
        "# my_cluster = [Blank](dataset, \n",
        "#                      method='complete')\n",
        "\n",
        "#hierarchy.linkage"
      ],
      "execution_count": 0,
      "outputs": []
    },
    {
      "cell_type": "code",
      "metadata": {
        "id": "q_iEjhZpX9bH",
        "colab_type": "code",
        "colab": {}
      },
      "source": [
        "#Which statement about Non-negative Matrix Factorization (NMF) is not true?\n",
        "#NMF can hand handle real numbers as input features"
      ],
      "execution_count": 0,
      "outputs": []
    },
    {
      "cell_type": "markdown",
      "metadata": {
        "id": "V0pxO4mmkpY2",
        "colab_type": "text"
      },
      "source": [
        "# AI4I Quiz 7"
      ]
    },
    {
      "cell_type": "code",
      "metadata": {
        "id": "9_9dFKukmHp7",
        "colab_type": "code",
        "colab": {}
      },
      "source": [
        "# Create a notebook in Google Colaboratory. Install and import Tensorflow 2.0 and the required libraries. Load the MNIST_fashion dataset. \n",
        "# Q1: What is the width of each picture in pixels?\n",
        "# The width of each picture is 28 px."
      ],
      "execution_count": 0,
      "outputs": []
    },
    {
      "cell_type": "code",
      "metadata": {
        "id": "EJN6O9xMmAXb",
        "colab_type": "code",
        "colab": {}
      },
      "source": [
        "# Build a CNN to classifiy the different classes in the dataset. Use what you learnt about convolution layers, activation functions, and dropout.\n",
        "# What activation should you use in the final layer?\n",
        "#(softmax,softmax)"
      ],
      "execution_count": 0,
      "outputs": []
    },
    {
      "cell_type": "code",
      "metadata": {
        "id": "L8DCaos4mD3L",
        "colab_type": "code",
        "colab": {}
      },
      "source": [
        "#What is the next step after the forward pass when you are training a neural network? (Hint: You only need to answer with one word)\n",
        "#backpropagation"
      ],
      "execution_count": 0,
      "outputs": []
    },
    {
      "cell_type": "code",
      "metadata": {
        "id": "ZExwYCjomTxb",
        "colab_type": "code",
        "colab": {}
      },
      "source": [
        "#If you have a high training accuracy but a low validation accuracy, what is likely to be happening? (Hint: You only need to answer with one word)\n",
        "#overfitting"
      ],
      "execution_count": 0,
      "outputs": []
    },
    {
      "cell_type": "code",
      "metadata": {
        "id": "7rc11lpymc6b",
        "colab_type": "code",
        "colab": {}
      },
      "source": [
        "#When using gradient descent, we try to get as close to the \n",
        "# (global) minima as possible (Hint: You only need to answer with one word)"
      ],
      "execution_count": 0,
      "outputs": []
    },
    {
      "cell_type": "markdown",
      "metadata": {
        "id": "NKBpVS_Dm4pT",
        "colab_type": "text"
      },
      "source": [
        "# AI4I Quiz 8"
      ]
    },
    {
      "cell_type": "code",
      "metadata": {
        "id": "QD2f_5Y6nOly",
        "colab_type": "code",
        "colab": {}
      },
      "source": [
        "#With SQL, how do you select all the columns from a table named SALES?\n",
        "#SELECT * FROM SALES"
      ],
      "execution_count": 0,
      "outputs": []
    },
    {
      "cell_type": "code",
      "metadata": {
        "id": "IbtjDN94nQHp",
        "colab_type": "code",
        "colab": {}
      },
      "source": [
        "#Which SQL keywords specify the sorting direction of the result set retrieved with the ORDER BY clause?\n",
        "#ASC, DESC"
      ],
      "execution_count": 0,
      "outputs": []
    },
    {
      "cell_type": "code",
      "metadata": {
        "id": "sgTdcHiFnRLA",
        "colab_type": "code",
        "colab": {}
      },
      "source": [
        "#You are in the shell. We have a file called ‘sample’. We want to highlight only the lines that do not contain the character ‘a’, but the result should be in reverse order. We then want to write the resulting output to a file called ‘myoutput’.\n",
        "#What commands do you issue to shell? (Use Cat, Grep and Sort Commands to help you)\n",
        "#grep a sample -v | sort -r >> myoutput"
      ],
      "execution_count": 0,
      "outputs": []
    }
  ]
}